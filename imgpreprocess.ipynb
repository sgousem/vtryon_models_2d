{
 "cells": [
  {
   "cell_type": "code",
   "execution_count": null,
   "metadata": {},
   "outputs": [
    {
     "name": "stdout",
     "output_type": "stream",
     "text": [
      "(202, 100) (202, 100)\n"
     ]
    }
   ],
   "source": [
    "import cv2\n",
    "frame = cv2.imread(\"colour.jpg\")\n",
    "frame1 = cv2.imread(\"er.jpg\")\n",
    "(x,y) = frame1.shape[:2]\n",
    "resized = cv2.resize(frame,(y,x), interpolation = cv2.INTER_AREA)\n",
    "frame_gray = cv2.cvtColor(frame, cv2.COLOR_BGR2GRAY)\n",
    "(p,q) = resized.shape[:2]\n",
    "print((x,y),(p,q))\n",
    "#dst = cv2.add(frame1,resized)\n",
    "img2gray = cv2.cvtColor(frame1, cv2.COLOR_BGR2GRAY)\n",
    "\n",
    "# add a threshold\n",
    "ret, mask = cv2.threshold(img2gray, 220, 255, cv2.THRESH_BINARY_INV)\n",
    "#cv2.imshow('Ear Detector', ear_img) \n",
    "mask_inv = cv2.bitwise_not(mask)\n",
    "roi_bg = cv2.bitwise_and(resized,resized,mask = mask_inv)\n",
    "dst = cv2.add(frame1,roi_bg)\n",
    "#dst1 = cv2.bitwise_and(resized,resized,mask = frame1)\n",
    "roi_fg = cv2.bitwise_and(frame1,frame1,mask = mask)\n",
    "dst = cv2.add(roi_fg,roi_bg)\n",
    "\n",
    "cv2.imshow('ear',frame1)\n",
    "cv2.imshow('hand',mask)\n",
    "#cv2.imshow('dst',mask_inv)\n",
    "#cv2.imshow('dst1',roi_bg)\n",
    "cv2.imshow('dst2',dst)\n",
    "#cv2.imshow('dst3',roi_fg)\n",
    "cv2.waitKey(0)\n",
    "cv2.destroyAllWindows()\n"
   ]
  },
  {
   "cell_type": "code",
   "execution_count": 7,
   "metadata": {},
   "outputs": [
    {
     "name": "stdout",
     "output_type": "stream",
     "text": [
      "(202, 100) (202, 100)\n"
     ]
    }
   ],
   "source": [
    "import cv2\n",
    "frame = cv2.imread(\"colour.jpg\")\n",
    "frame1 = cv2.imread(\"er.jpg\")\n",
    "(x,y) = frame1.shape[:2]\n",
    "resized = cv2.resize(frame,(y,x), interpolation = cv2.INTER_AREA)\n",
    "frame_gray = cv2.cvtColor(frame, cv2.COLOR_BGR2GRAY)\n",
    "(p,q) = resized.shape[:2]\n",
    "print((x,y),(p,q))\n",
    "#dst = cv2.add(frame1,resized)\n",
    "img2gray = cv2.cvtColor(frame1, cv2.COLOR_BGR2GRAY)\n",
    "\n",
    "# add a threshold\n",
    "ret, mask = cv2.threshold(img2gray, 220, 255, cv2.THRESH_BINARY_INV)\n",
    "#cv2.imshow('Ear Detector', ear_img) \n",
    "mask_inv = cv2.bitwise_not(mask)\n",
    "roi_bg = cv2.bitwise_and(resized,resized,mask = mask_inv)\n",
    "dst = cv2.add(frame1,roi_bg)\n",
    "#dst1 = cv2.bitwise_and(resized,resized,mask = frame1)\n",
    "roi_fg = cv2.bitwise_and(frame1,frame1,mask = mask)\n",
    "dst = cv2.add(roi_fg,roi_bg)\n",
    "\n",
    "cv2.imshow('ear',frame1)\n",
    "cv2.imshow('hand',mask)\n",
    "cv2.imshow('dst',mask_inv)\n",
    "#cv2.imshow('dst1',roi_bg)\n",
    "#cv2.imshow('dst2',dst)\n",
    "#cv2.imshow('dst3',roi_fg)\n",
    "cv2.waitKey(0)\n",
    "cv2.destroyAllWindows()\n"
   ]
  },
  {
   "cell_type": "code",
   "execution_count": 11,
   "metadata": {},
   "outputs": [
    {
     "name": "stdout",
     "output_type": "stream",
     "text": [
      "(202, 100) (202, 100)\n"
     ]
    }
   ],
   "source": [
    "import cv2\n",
    "frame = cv2.imread(\"colour.jpg\")\n",
    "frame1 = cv2.imread(\"er.jpg\")\n",
    "(x,y) = frame1.shape[:2]\n",
    "resized = cv2.resize(frame,(y,x), interpolation = cv2.INTER_AREA)\n",
    "frame_gray = cv2.cvtColor(frame, cv2.COLOR_BGR2GRAY)\n",
    "(p,q) = resized.shape[:2]\n",
    "print((x,y),(p,q))\n",
    "#dst = cv2.add(frame1,resized)\n",
    "img2gray = cv2.cvtColor(frame1, cv2.COLOR_BGR2GRAY)\n",
    "\n",
    "# add a threshold\n",
    "ret, mask = cv2.threshold(img2gray, 220, 255, cv2.THRESH_BINARY_INV)\n",
    "#cv2.imshow('Ear Detector', ear_img) \n",
    "mask_inv = cv2.bitwise_not(mask)\n",
    "roi_bg = cv2.bitwise_and(resized,resized,mask = mask_inv)\n",
    "dst = cv2.add(frame1,roi_bg)\n",
    "#dst1 = cv2.bitwise_and(resized,resized,mask = frame1)\n",
    "roi_fg = cv2.bitwise_and(frame1,frame1,mask = mask)\n",
    "dst = cv2.add(roi_fg,roi_bg)\n",
    "\n",
    "cv2.imshow('ear',frame1)\n",
    "cv2.imshow('hand',mask)\n",
    "cv2.imshow('dst',mask_inv)\n",
    "cv2.imshow('dst1',roi_bg)\n",
    "#cv2.imshow('dst2',dst)\n",
    "#cv2.imshow('dst3',roi_fg)\n",
    "cv2.waitKey(0)\n",
    "cv2.destroyAllWindows()\n"
   ]
  },
  {
   "cell_type": "code",
   "execution_count": 9,
   "metadata": {},
   "outputs": [
    {
     "name": "stdout",
     "output_type": "stream",
     "text": [
      "(202, 100) (202, 100)\n"
     ]
    }
   ],
   "source": [
    "import cv2\n",
    "frame = cv2.imread(\"colour.jpg\")\n",
    "frame1 = cv2.imread(\"er.jpg\")\n",
    "(x,y) = frame1.shape[:2]\n",
    "resized = cv2.resize(frame,(y,x), interpolation = cv2.INTER_AREA)\n",
    "frame_gray = cv2.cvtColor(frame, cv2.COLOR_BGR2GRAY)\n",
    "(p,q) = resized.shape[:2]\n",
    "print((x,y),(p,q))\n",
    "#dst = cv2.add(frame1,resized)\n",
    "img2gray = cv2.cvtColor(frame1, cv2.COLOR_BGR2GRAY)\n",
    "\n",
    "# add a threshold\n",
    "ret, mask = cv2.threshold(img2gray, 220, 255, cv2.THRESH_BINARY_INV)\n",
    "#cv2.imshow('Ear Detector', ear_img) \n",
    "mask_inv = cv2.bitwise_not(mask)\n",
    "roi_bg = cv2.bitwise_and(resized,resized,mask = mask_inv)\n",
    "dst = cv2.add(frame1,roi_bg)\n",
    "#dst1 = cv2.bitwise_and(resized,resized,mask = frame1)\n",
    "roi_fg = cv2.bitwise_and(frame1,frame1,mask = mask)\n",
    "dst = cv2.add(roi_fg,roi_bg)\n",
    "\n",
    "cv2.imshow('ear',frame1)\n",
    "cv2.imshow('hand',mask)\n",
    "cv2.imshow('dst',mask_inv)\n",
    "#cv2.imshow('dst1',roi_bg)\n",
    "#cv2.imshow('dst2',dst)\n",
    "cv2.imshow('dst3',roi_fg)\n",
    "cv2.waitKey(0)\n",
    "cv2.destroyAllWindows()\n"
   ]
  },
  {
   "cell_type": "code",
   "execution_count": 12,
   "metadata": {},
   "outputs": [
    {
     "name": "stdout",
     "output_type": "stream",
     "text": [
      "(202, 100) (202, 100)\n"
     ]
    }
   ],
   "source": [
    "import cv2\n",
    "frame = cv2.imread(\"colour.jpg\")\n",
    "frame1 = cv2.imread(\"er.jpg\")\n",
    "(x,y) = frame1.shape[:2]\n",
    "resized = cv2.resize(frame,(y,x), interpolation = cv2.INTER_AREA)\n",
    "frame_gray = cv2.cvtColor(frame, cv2.COLOR_BGR2GRAY)\n",
    "(p,q) = resized.shape[:2]\n",
    "print((x,y),(p,q))\n",
    "#dst = cv2.add(frame1,resized)\n",
    "img2gray = cv2.cvtColor(frame1, cv2.COLOR_BGR2GRAY)\n",
    "\n",
    "# add a threshold\n",
    "ret, mask = cv2.threshold(img2gray, 220, 255, cv2.THRESH_BINARY_INV)\n",
    "#cv2.imshow('Ear Detector', ear_img) \n",
    "mask_inv = cv2.bitwise_not(mask)\n",
    "roi_bg = cv2.bitwise_and(resized,resized,mask = mask_inv)\n",
    "dst = cv2.add(frame1,roi_bg)\n",
    "#dst1 = cv2.bitwise_and(resized,resized,mask = frame1)\n",
    "roi_fg = cv2.bitwise_and(frame1,frame1,mask = mask)\n",
    "dst = cv2.add(roi_fg,roi_bg)\n",
    "\n",
    "cv2.imshow('ear',frame1)\n",
    "cv2.imshow('hand',mask)\n",
    "cv2.imshow('dst',mask_inv)\n",
    "#cv2.imshow('dst1',roi_bg)\n",
    "cv2.imshow('dst2',dst)\n",
    "#cv2.imshow('dst3',roi_fg)\n",
    "cv2.waitKey(0)\n",
    "cv2.destroyAllWindows()\n"
   ]
  }
 ],
 "metadata": {
  "kernelspec": {
   "display_name": "Python 3",
   "language": "python",
   "name": "python3"
  },
  "language_info": {
   "codemirror_mode": {
    "name": "ipython",
    "version": 3
   },
   "file_extension": ".py",
   "mimetype": "text/x-python",
   "name": "python",
   "nbconvert_exporter": "python",
   "pygments_lexer": "ipython3",
   "version": "3.6.8"
  }
 },
 "nbformat": 4,
 "nbformat_minor": 4
}
