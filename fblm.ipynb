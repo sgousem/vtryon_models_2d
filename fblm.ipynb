{
 "cells": [
  {
   "cell_type": "code",
   "execution_count": 4,
   "metadata": {},
   "outputs": [
    {
     "name": "stdout",
     "output_type": "stream",
     "text": [
      "2\n"
     ]
    }
   ],
   "source": [
    "import numpy as np\n",
    "import sys\n",
    "import cv2 \n",
    "import imutils\n",
    "img = cv2.imread('image1.jpg')\n",
    "gray_img = cv2.cvtColor(img, cv2.COLOR_BGR2GRAY)\n",
    "gray_img1 = 255 - gray_img\n",
    "edges = cv2.Canny(gray_img1,100,200)\n",
    "edge_count = np.count_nonzero(gray_img1)\n",
    "cnts = cv2.findContours(edges.copy(), cv2.RETR_EXTERNAL,cv2.CHAIN_APPROX_NONE)\n",
    "print(len(cnts))\n",
    "cnts = imutils.grab_contours(cnts)\n",
    "c = max(cnts, key=cv2.contourArea)\n",
    "extLeft = tuple(c[c[:, :, 0].argmin()][0])\n",
    "extRight = tuple(c[c[:, :, 0].argmax()][0])\n",
    "extTop = tuple(c[c[:, :, 1].argmin()][0])\n",
    "extBot = tuple(c[c[:, :, 1].argmax()][0])\n",
    "cv2.drawContours(img, [c], -1, (0, 255, 255), 2)\n",
    "cv2.circle(img, extLeft, 8, (0, 0, 255), -1)\n",
    "cv2.circle(img, extRight, 8, (0, 255, 0), -1)\n",
    "cv2.circle(img, extTop, 8, (255, 0, 0), -1)\n",
    "cv2.circle(img, extBot, 8, (255, 255, 0), -1)\n",
    "# show the output image\n",
    "cv2.imshow(\"Image\", gray_img1)\n",
    "cv2.imshow(\"countr\",edges)\n",
    "cv2.waitKey(0)\n",
    "cv2.destroyAllWindows()"
   ]
  },
  {
   "cell_type": "code",
   "execution_count": null,
   "metadata": {},
   "outputs": [],
   "source": [
    "gray_img = cv2.cvtColor(img, cv2.COLOR_BGR2GRAY)\n",
    "height, width = gray_img.shape\n",
    "white_padding = np.zeros((50, width, 3))\n",
    "white_padding[:, :] = [255, 255, 255]\n",
    "rgb_img = np.row_stack((white_padding, img))\n",
    "gray_img = 255 - gray_img\n",
    "gray_img[gray_img > 100] = 255\n",
    "gray_img[gray_img <= 100] = 0\n",
    "black_padding = np.zeros((50, width))\n",
    "gray_img = np.row_stack((black_padding, gray_img))\n",
    "kernel = np.ones((30, 30), np.uint8)\n",
    "closing = cv2.morphologyEx(gray_img, cv2.MORPH_CLOSE, kernel)"
   ]
  },
  {
   "cell_type": "code",
   "execution_count": 1,
   "metadata": {},
   "outputs": [
    {
     "ename": "ModuleNotFoundError",
     "evalue": "No module named 'PyDIP'",
     "output_type": "error",
     "traceback": [
      "\u001b[1;31m---------------------------------------------------------------------------\u001b[0m",
      "\u001b[1;31mModuleNotFoundError\u001b[0m                       Traceback (most recent call last)",
      "\u001b[1;32m<ipython-input-1-5fafb2df070a>\u001b[0m in \u001b[0;36m<module>\u001b[1;34m\u001b[0m\n\u001b[1;32m----> 1\u001b[1;33m \u001b[1;32mimport\u001b[0m \u001b[0mPyDIP\u001b[0m \u001b[1;32mas\u001b[0m \u001b[0mdip\u001b[0m\u001b[1;33m\u001b[0m\u001b[1;33m\u001b[0m\u001b[0m\n\u001b[0m\u001b[0;32m      2\u001b[0m \u001b[1;32mimport\u001b[0m \u001b[0mmath\u001b[0m\u001b[1;33m\u001b[0m\u001b[1;33m\u001b[0m\u001b[0m\n\u001b[0;32m      3\u001b[0m \u001b[1;33m\u001b[0m\u001b[0m\n\u001b[0;32m      4\u001b[0m \u001b[1;31m# Load image and set pixel size\u001b[0m\u001b[1;33m\u001b[0m\u001b[1;33m\u001b[0m\u001b[1;33m\u001b[0m\u001b[0m\n\u001b[0;32m      5\u001b[0m \u001b[0mimg\u001b[0m \u001b[1;33m=\u001b[0m \u001b[0mdip\u001b[0m\u001b[1;33m.\u001b[0m\u001b[0mImageReadTIFF\u001b[0m\u001b[1;33m(\u001b[0m\u001b[1;34m'count.tiff'\u001b[0m\u001b[1;33m)\u001b[0m\u001b[1;33m\u001b[0m\u001b[1;33m\u001b[0m\u001b[0m\n",
      "\u001b[1;31mModuleNotFoundError\u001b[0m: No module named 'PyDIP'"
     ]
    }
   ],
   "source": [
    "import PyDIP as dip\n",
    "import math\n",
    "\n",
    "# Load image and set pixel size\n",
    "img = dip.ImageReadTIFF('count.tiff')\n",
    "img.SetPixelSize(dip.PixelSize(0.042 * dip.Units(\"mm\")))\n",
    "\n",
    "# Extract object\n",
    "obj = ~dip.Threshold(dip.Gauss(img))[0]\n",
    "obj = dip.EdgeObjectsRemove(obj)\n",
    "\n",
    "# Remove noise\n",
    "obj = dip.Opening(dip.Closing(obj,9),9)\n",
    "\n",
    "# Measure object area\n",
    "lab = dip.Label(obj)\n",
    "msr = dip.MeasurementTool.Measure(lab,img,['Size'])\n",
    "objectArea = msr[1]['Size'][0]\n",
    "\n",
    "# Measure holes\n",
    "obj = dip.EdgeObjectsRemove(~obj)\n",
    "lab = dip.Label(obj)\n",
    "msr = dip.MeasurementTool.Measure(lab,img,['Size'])\n",
    "sz = msr['Size']\n",
    "holeAreas = []\n",
    "for ii in sz.Objects():\n",
    "   holeAreas.append(sz[ii][0])\n",
    "\n",
    "# Add hole areas to main object area\n",
    "objectArea += sum(holeAreas)\n",
    "\n",
    "print('Object diameter = %f mm' % (2 * math.sqrt(objectArea / math.pi)))\n",
    "for a in holeAreas:\n",
    "   print('Hole diameter = %f mm' % (2 * math.sqrt(a / math.pi)))"
   ]
  },
  {
   "cell_type": "code",
   "execution_count": 3,
   "metadata": {},
   "outputs": [],
   "source": [
    "import cv2 # Import OpenCV\n",
    "import numpy as np # Import NumPy\n",
    "\n",
    "# Read in the image as grayscale - Note the 0 flag\n",
    "im = cv2.imread('earring.jpg', 0)\n",
    "\n",
    "# Run findContours - Note the RETR_EXTERNAL flag\n",
    "# Also, we want to find the best contour possible with CHAIN_APPROX_NONE\n",
    "contours, hierarchy = cv2.findContours(im.copy(), cv2.RETR_EXTERNAL, cv2.CHAIN_APPROX_NONE)\n",
    "\n",
    "# Create an output of all zeroes that has the same shape as the input\n",
    "# image\n",
    "out = np.zeros_like(im)\n",
    "\n",
    "# On this output, draw all of the contours that we have detected\n",
    "# in white, and set the thickness to be 3 pixels\n",
    "cv2.drawContours(out, contours, -1, 255, 3)\n",
    "\n",
    "# Spawn new windows that shows us the donut\n",
    "# (in grayscale) and the detected contour\n",
    "cv2.imshow('Donut', im) \n",
    "cv2.imshow('Output Contour', out)\n",
    "\n",
    "# Wait indefinitely until you push a key.  Once you do, close the windows\n",
    "cv2.waitKey(0)\n",
    "cv2.destroyAllWindows()"
   ]
  },
  {
   "cell_type": "code",
   "execution_count": 2,
   "metadata": {},
   "outputs": [],
   "source": [
    "import cv2\n",
    "\n",
    "# Read image and convert it to grayscale. \n",
    "img = cv2.imread('earring1.jpg')\n",
    "gray = cv2.cvtColor(img, cv2.COLOR_BGR2GRAY)\n",
    "\n",
    "# Search for edges in the image with cv2.Canny().\n",
    "edges = cv2.Canny(gray,150,200)\n",
    "\n",
    "# Search for contours in the edged image with cv2.findContour().\n",
    "contours, hierarchy = cv2.findContours(edges,cv2.RETR_TREE,cv2.CHAIN_APPROX_SIMPLE)\n",
    "\n",
    "# Filter out contours that are not in your interest by applying size criterion.\n",
    "for cnt in contours:\n",
    "    size = cv2.contourArea(cnt)\n",
    "    if size > 200:\n",
    "        cv2.drawContours(img, [cnt], -1, (255,0,0), 3)\n",
    "\n",
    "# Display the image.\n",
    "cv2.imshow('img', img)\n",
    "cv2.waitKey(0)\n",
    "cv2.destroyAllWindows()"
   ]
  }
 ],
 "metadata": {
  "kernelspec": {
   "display_name": "Python 3",
   "language": "python",
   "name": "python3"
  },
  "language_info": {
   "codemirror_mode": {
    "name": "ipython",
    "version": 3
   },
   "file_extension": ".py",
   "mimetype": "text/x-python",
   "name": "python",
   "nbconvert_exporter": "python",
   "pygments_lexer": "ipython3",
   "version": "3.6.8"
  }
 },
 "nbformat": 4,
 "nbformat_minor": 4
}
