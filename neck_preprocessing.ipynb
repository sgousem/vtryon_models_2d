{
 "cells": [
  {
   "cell_type": "code",
   "execution_count": 1,
   "metadata": {},
   "outputs": [
    {
     "name": "stdout",
     "output_type": "stream",
     "text": [
      "(50, 0) (385.0, 0.0)\n"
     ]
    }
   ],
   "source": [
    "# import the necessary packages\n",
    "import imutils\n",
    "import cv2\n",
    "import numpy as np\n",
    "# load the image, convert it to grayscale, and blur it slightly\n",
    "image = cv2.imread(\"neclace2.jpg\")\n",
    "gray = cv2.cvtColor(image, cv2.COLOR_BGR2GRAY)\n",
    "gray = cv2.GaussianBlur(gray, (5, 5), 0)\n",
    "# threshold the image, then perform a series of erosions +\n",
    "# dilations to remove any small regions of noise\n",
    "#thresh = cv2.threshold(gray, 45, 255, cv2.THRESH_BINARY)[1]\n",
    "#thresh = cv2.erode(thresh, None, iterations=2)\n",
    "#thresh = cv2.dilate(thresh, None, iterations=2)\n",
    "# find contours in thresholded image, then grab the largest\n",
    "# one\n",
    "ret, mask = cv2.threshold(gray, 220, 255, cv2.THRESH_BINARY_INV)\n",
    "cnts = cv2.findContours(mask.copy(), cv2.RETR_EXTERNAL,cv2.CHAIN_APPROX_SIMPLE)\n",
    "cnts = imutils.grab_contours(cnts)\n",
    "c = max(cnts, key=cv2.contourArea)\n",
    "ma = cv2.minAreaRect(c);\n",
    "bp = cv2.boxPoints(ma)\n",
    "#c1 = np.argpartition(c[c[:, :, 1]],3)\n",
    "extRight = tuple(c[c[:, :, 0].argmin()][0])\n",
    "extLeft = tuple(c[c[:, :, 0].argmax()][0])\n",
    "extTop = tuple(c[c[:, :, 1].argmin()][0])\n",
    "extBot = tuple(c[c[:, :, 1].argmax()][0])\n",
    "extTop1 = tuple(bp[2])\n",
    "print(extTop,extTop1)\n",
    "#extTop1 = tuple(c[c[:, :, 1].argmin()][1])\n",
    "#print(c1[1])\n",
    "cv2.drawContours(image, [c], -1, (0, 255, 255), 2)\n",
    "cv2.circle(image, extLeft, 8, (0, 0, 255), -1)\n",
    "cv2.circle(image, extRight, 8, (0, 255, 0), -1)\n",
    "cv2.circle(image, extTop, 8, (255, 0, 0), -1)\n",
    "cv2.circle(image, extTop1, 8, (255, 0, 0), -1)\n",
    "cv2.circle(image, extBot, 8, (255, 255, 0), -1)\n",
    "# show the output image\n",
    "cv2.imshow(\"Image\", image)\n",
    "cv2.waitKey(0)\n",
    "cv2.destroyAllWindows()"
   ]
  },
  {
   "cell_type": "code",
   "execution_count": 36,
   "metadata": {},
   "outputs": [
    {
     "data": {
      "text/plain": [
       "array([65, 58], dtype=int32)"
      ]
     },
     "execution_count": 36,
     "metadata": {},
     "output_type": "execute_result"
    }
   ],
   "source": [
    "c[c[:, :, 0].argmin()][0]"
   ]
  },
  {
   "cell_type": "code",
   "execution_count": 54,
   "metadata": {},
   "outputs": [],
   "source": [
    "index = np.argmin(c[:,:,1],axis = 1)\n"
   ]
  },
  {
   "cell_type": "code",
   "execution_count": 61,
   "metadata": {},
   "outputs": [],
   "source": [
    "maximum_values = c[np.arange(c.shape[0]), index]\n"
   ]
  },
  {
   "cell_type": "code",
   "execution_count": 73,
   "metadata": {},
   "outputs": [
    {
     "data": {
      "text/plain": [
       "array([[ 65., 350.],\n",
       "       [ 65.,  28.],\n",
       "       [314.,  28.],\n",
       "       [314., 350.]], dtype=float32)"
      ]
     },
     "execution_count": 73,
     "metadata": {},
     "output_type": "execute_result"
    }
   ],
   "source": [
    "ma = cv2.minAreaRect(c);\n",
    "bp = cv2.boxPoints(ma)\n",
    "bp"
   ]
  },
  {
   "cell_type": "code",
   "execution_count": 4,
   "metadata": {},
   "outputs": [
    {
     "data": {
      "text/plain": [
       "240.0"
      ]
     },
     "execution_count": 4,
     "metadata": {},
     "output_type": "execute_result"
    }
   ],
   "source": [
    "dis = bp[2][0]-extTop[0]\n",
    "dis"
   ]
  },
  {
   "cell_type": "code",
   "execution_count": 70,
   "metadata": {},
   "outputs": [
    {
     "name": "stdout",
     "output_type": "stream",
     "text": [
      "(380, 380, 3)\n"
     ]
    },
    {
     "data": {
      "text/plain": [
       "370"
      ]
     },
     "execution_count": 70,
     "metadata": {},
     "output_type": "execute_result"
    }
   ],
   "source": [
    "h = int(bp[2][0]+20)\n",
    "y = int(extTop[1]-20)\n",
    "x = int(extTop[0]-20)\n",
    "w = int(extBot[1]+20)\n",
    "print(image.shape)\n",
    "extTop\n",
    "w"
   ]
  },
  {
   "cell_type": "code",
   "execution_count": 71,
   "metadata": {},
   "outputs": [
    {
     "name": "stdout",
     "output_type": "stream",
     "text": [
      "8 370 54 334\n"
     ]
    }
   ],
   "source": [
    "crop_img = image[y:w,x:h]\n",
    "print(y,w,x,h)\n",
    "cv2.imshow(\"cropped\", crop_img)\n",
    "cv2.waitKey(0)\n",
    "cv2.destroyAllWindows()"
   ]
  },
  {
   "cell_type": "code",
   "execution_count": 8,
   "metadata": {},
   "outputs": [
    {
     "name": "stdout",
     "output_type": "stream",
     "text": [
      "(250, 270) (371, 261)\n",
      "121\n",
      "(500, 500, 3)\n",
      "(120, 120)\n",
      "(120, 120)\n",
      "(1200, 1200)\n",
      "(1200, 1200)\n",
      "250 270 120 37\n",
      "(120, 120, 3)\n",
      "420 370\n",
      "250 250 300 420\n",
      "(1200, 1200, 3)\n",
      "250 300\n",
      "(1200, 1200, 3)\n",
      "(1200, 1200, 3)\n",
      "(120, 120, 3)\n"
     ]
    }
   ],
   "source": [
    "from imutils import face_utils\n",
    "import numpy as np\n",
    "import argparse\n",
    "import imutils\n",
    "import dlib\n",
    "import cv2\n",
    "def fit_factor(dim,dis):\n",
    "    fac = round(dis/dim,2)\n",
    "    return fac\n",
    "def map_factor(img_dim,s2,tar_dim):\n",
    "    if tar_dim[1]>img_dim[0]-(s2+80):\n",
    "        new_dim = img_dim[0]-(s2+30)\n",
    "    else:\n",
    "        new_dim = tar_dim[1]\n",
    "    return new_dim \n",
    "def acc_crop(image):\n",
    "    gray = cv2.cvtColor(image, cv2.COLOR_BGR2GRAY)\n",
    "    gray = cv2.GaussianBlur(gray, (5, 5), 0)\n",
    "    ret, mask = cv2.threshold(gray, 220, 255, cv2.THRESH_BINARY_INV)\n",
    "    cnts = cv2.findContours(mask.copy(), cv2.RETR_EXTERNAL,cv2.CHAIN_APPROX_SIMPLE)\n",
    "    cnts = imutils.grab_contours(cnts)\n",
    "    c = max(cnts, key=cv2.contourArea)\n",
    "    ma = cv2.minAreaRect(c);\n",
    "    bp = cv2.boxPoints(ma)\n",
    "    extTop = tuple(c[c[:, :, 1].argmin()][0])\n",
    "    extBot = tuple(c[c[:, :, 1].argmax()][0])\n",
    "    extTop1 = tuple(bp[2])\n",
    "    h = int(bp[2][0]+20)\n",
    "    y = int(extTop[1]-20)\n",
    "    x = int(extTop[0]-20)\n",
    "    w = int(extBot[1]+20)\n",
    "    return x,y,w,h\n",
    "# construct the argument parser and parse the arguments\n",
    "#ap = argparse.ArgumentParser()\n",
    "#ap.add_argument(\"-p\", \"--shape-predictor\", required=True,help=\"path to facial landmark predictor\")\n",
    "#ap.add_argument(\"-i\", \"--image\", required=True,help=\"path to input image\")\n",
    "#args = vars(ap.parse_args())\n",
    "cap = cv2.VideoCapture(0)\n",
    "# initialize dlib's face detector (HOG-based) and then create\n",
    "# the facial landmark predictor\n",
    "detector = dlib.get_frontal_face_detector()\n",
    "predictor = dlib.shape_predictor('shape_predictor_68_face_landmarks.dat')\n",
    "image1 = cv2.imread('neclace5.jpg') \n",
    "#x,y,w,h = acc_crop(oimage)\n",
    "#image1 = oimage[y:w,x:h]\n",
    "while True:\n",
    "    ret, image = cap.read() \n",
    "    # load the input image, resize it, and convert it to grayscale\n",
    "    #image = cv2.imread('neck.jpg')\n",
    "    #print(image.shape)\n",
    "    #image = imutils.resize(image, width=500)\n",
    "    #print(image.shape)\n",
    "\n",
    "    gray = cv2.cvtColor(image, cv2.COLOR_BGR2GRAY)\n",
    "\n",
    "    # detect faces in the grayscale image\n",
    "    rects = detector(gray, 1)\n",
    "\n",
    "    # loop over the face detections\n",
    "    for (i, rect) in enumerate(rects):\n",
    "        # determine the facial landmarks for the face region, then\n",
    "        # convert the landmark (x, y)-coordinates to a NumPy array\n",
    "        shape = predictor(gray, rect)\n",
    "        shape = face_utils.shape_to_np(shape)\n",
    "\n",
    "        # loop over the face parts individually\n",
    "        #for (name, (i, j)) in face_utils.FACIAL_LANDMARKS_IDXS.items():\n",
    "        name = 'jaw'\n",
    "        (i, j) = face_utils.FACIAL_LANDMARKS_IDXS[name]\n",
    "        (i, j) = (i+3,j-4)\n",
    "        # clone the original image so we can draw on it, then\n",
    "        # display the name of the face part on the image\n",
    "        clone = image.copy()\n",
    "        cv2.putText(clone,'neck', (10, 30), cv2.FONT_HERSHEY_SIMPLEX,0.7, (0, 0, 255), 2)\n",
    "\n",
    "        # loop over the subset of facial landmarks, drawing the\n",
    "        # specific face part\n",
    "        (s1,s2) = shape[i]\n",
    "        (e1,e2) = shape[j]\n",
    "        dis = e1-s1\n",
    "        dim = image1.shape[1]\n",
    "        print((s1,s2), (e1,e2))\n",
    "        print(e1-s1)\n",
    "        print(image1.shape)\n",
    "        m_factor = fit_factor(dim,dis)\n",
    "        p_dim = (int(image1.shape[1]*m_factor),int(image1.shape[0]*m_factor))\n",
    "        print(p_dim)\n",
    "        mf = map_factor(image.shape,s2,p_dim)\n",
    "        if mf ==p_dim[0]:\n",
    "            dim = p_dim\n",
    "        else:\n",
    "            dim = (p_dim[0],mf)\n",
    "        print(dim)\n",
    "        img2gray = cv2.cvtColor(image1, cv2.COLOR_BGR2GRAY)\n",
    "\n",
    "        # add a threshold\n",
    "        ret, mask = cv2.threshold(img2gray, 220, 255, cv2.THRESH_BINARY_INV)\n",
    "        #cv2.imshow('Ear Detector', ear_img) \n",
    "        mask_inv = cv2.bitwise_not(mask)\n",
    "        resized = cv2.resize(image1,dim, interpolation = cv2.INTER_AREA)\n",
    "        #print(resized.shape)\n",
    "        #mask = cv2.resize(mask, (resized.shape[1],resized.shape[0]), interpolation = cv2.INTER_AREA)\n",
    "        #print(mask.shape)\n",
    "        #mask_inv = cv2.resize(mask_inv, (resized.shape[1],resized.shape[0]), interpolation = cv2.INTER_AREA)\n",
    "        #print(mask_inv.shape)\n",
    "        resized1 = cv2.resize(resized, (resized.shape[1]*10,resized.shape[0]*10), interpolation = cv2.INTER_AREA)\n",
    "        #mask = cv2.resize(mask, (resized.shape[1],resized.shape[0]), interpolation = cv2.INTER_AREA)\n",
    "        #mask_inv = cv2.resize(mask_inv, (resized.shape[1],resized.shape[0]), interpolation = cv2.INTER_AREA)\n",
    "        mask = cv2.resize(mask, (resized.shape[1]*10,resized.shape[0]*10), interpolation = cv2.INTER_AREA)\n",
    "        print(mask.shape)\n",
    "        mask_inv = cv2.resize(mask_inv, (resized.shape[1]*10,resized.shape[0]*10), interpolation = cv2.INTER_AREA)\n",
    "        print(mask_inv.shape)\n",
    "        for (x, y) in shape[i:j]:\n",
    "            cv2.circle(clone, (x, y+40), 3, (0, 255, 0), -1)\n",
    "\n",
    "        # extract the ROI of the face region as a separate image\n",
    "        #(x, y, w, h) = cv2.boundingRect(np.array([shape[i:j]]))\n",
    "        #roi = image[y:y + h, x:x + w]\n",
    "        #roi = imutils.resize(roi, width=250, inter=cv2.INTER_CUBIC)\n",
    "        (x, y, w, h) = cv2.boundingRect(np.array([shape[i:j]]))\n",
    "        print(x, y, w, h)\n",
    "        point = s1\n",
    "        point1 = s2+30\n",
    "        roi1 = image[point1:point1+dim[1],point:point+dim[0]]\n",
    "        print(roi1.shape)\n",
    "        print(point1+dim[1],point+dim[0])\n",
    "        roi = cv2.resize(roi1, (roi1.shape[1]*10,roi1.shape[0]*10), interpolation = cv2.INTER_AREA)\n",
    "        print(s1,point,point1,point1+dim[0])\n",
    "        print(roi.shape)\n",
    "        print(point,point1)\n",
    "        roi_bg = cv2.bitwise_and(roi,roi,mask = mask_inv)\n",
    "        print(roi_bg.shape)\n",
    "        # roi_fg contains the orignal location of earring\n",
    "        roi_fg = cv2.bitwise_and(resized1,resized1,mask = mask)\n",
    "        print(roi_bg.shape)\n",
    "        # joining the roi_bg and roi_fg\n",
    "        dst1 = cv2.add(roi_bg,roi_fg)\n",
    "        dst = cv2.resize(dst1, (int(dst1.shape[1]/10),int(dst1.shape[0]/10)), interpolation = cv2.INTER_AREA)\n",
    "        print(dst.shape)\n",
    "        #cv2.imshow('Ear Detector', dst) \n",
    "        #cv2.waitKey(10)\n",
    "        #point = int(s1+dim[0])\n",
    "        #print(point,point+dim[0])\n",
    "        cv2.circle(image, (s1,s2+80), 3, (0, 255, 0), -1)\n",
    "        #cv2.rectangle(image, (s1,s2+80), (s1+dim[0],s2+80+dim[1]), (0,255,0), 3)\n",
    "        image[point1:point1+dim[1],point:point+dim[0]]=dst\n",
    "        # show the particular face part\n",
    "        #cv2.imshow(\"ROI\", roi)\n",
    "        cv2.imshow(\"Image\", image)\n",
    "        #cv2.waitKey(0)\n",
    "        # visualize all facial landmarks with a transparent overlay\n",
    "        #output = face_utils.visualize_facial_landmarks(image, shape)\n",
    "        #cv2.imshow(\"Image\", output)\n",
    "        #cv2.waitKey(0)\n",
    "    k = cv2.waitKey(0) & 0xFF\n",
    "    if k == ord('q'): # wait for ESC key to exit\n",
    "        break\n",
    "    #if cv2.waitKey(0) & 0xFF == ord('s'):\n",
    "        #break\n",
    "\n",
    "cap.release() \n",
    "cv2.destroyAllWindows()"
   ]
  },
  {
   "cell_type": "code",
   "execution_count": 1,
   "metadata": {},
   "outputs": [
    {
     "ename": "URLError",
     "evalue": "<urlopen error [WinError 10061] No connection could be made because the target machine actively refused it>",
     "output_type": "error",
     "traceback": [
      "\u001b[1;31m---------------------------------------------------------------------------\u001b[0m",
      "\u001b[1;31mConnectionRefusedError\u001b[0m                    Traceback (most recent call last)",
      "\u001b[1;32mc:\\users\\user\\appdata\\local\\programs\\python\\python36\\lib\\urllib\\request.py\u001b[0m in \u001b[0;36mdo_open\u001b[1;34m(self, http_class, req, **http_conn_args)\u001b[0m\n\u001b[0;32m   1317\u001b[0m                 h.request(req.get_method(), req.selector, req.data, headers,\n\u001b[1;32m-> 1318\u001b[1;33m                           encode_chunked=req.has_header('Transfer-encoding'))\n\u001b[0m\u001b[0;32m   1319\u001b[0m             \u001b[1;32mexcept\u001b[0m \u001b[0mOSError\u001b[0m \u001b[1;32mas\u001b[0m \u001b[0merr\u001b[0m\u001b[1;33m:\u001b[0m \u001b[1;31m# timeout error\u001b[0m\u001b[1;33m\u001b[0m\u001b[1;33m\u001b[0m\u001b[0m\n",
      "\u001b[1;32mc:\\users\\user\\appdata\\local\\programs\\python\\python36\\lib\\http\\client.py\u001b[0m in \u001b[0;36mrequest\u001b[1;34m(self, method, url, body, headers, encode_chunked)\u001b[0m\n\u001b[0;32m   1238\u001b[0m         \u001b[1;34m\"\"\"Send a complete request to the server.\"\"\"\u001b[0m\u001b[1;33m\u001b[0m\u001b[1;33m\u001b[0m\u001b[0m\n\u001b[1;32m-> 1239\u001b[1;33m         \u001b[0mself\u001b[0m\u001b[1;33m.\u001b[0m\u001b[0m_send_request\u001b[0m\u001b[1;33m(\u001b[0m\u001b[0mmethod\u001b[0m\u001b[1;33m,\u001b[0m \u001b[0murl\u001b[0m\u001b[1;33m,\u001b[0m \u001b[0mbody\u001b[0m\u001b[1;33m,\u001b[0m \u001b[0mheaders\u001b[0m\u001b[1;33m,\u001b[0m \u001b[0mencode_chunked\u001b[0m\u001b[1;33m)\u001b[0m\u001b[1;33m\u001b[0m\u001b[1;33m\u001b[0m\u001b[0m\n\u001b[0m\u001b[0;32m   1240\u001b[0m \u001b[1;33m\u001b[0m\u001b[0m\n",
      "\u001b[1;32mc:\\users\\user\\appdata\\local\\programs\\python\\python36\\lib\\http\\client.py\u001b[0m in \u001b[0;36m_send_request\u001b[1;34m(self, method, url, body, headers, encode_chunked)\u001b[0m\n\u001b[0;32m   1284\u001b[0m             \u001b[0mbody\u001b[0m \u001b[1;33m=\u001b[0m \u001b[0m_encode\u001b[0m\u001b[1;33m(\u001b[0m\u001b[0mbody\u001b[0m\u001b[1;33m,\u001b[0m \u001b[1;34m'body'\u001b[0m\u001b[1;33m)\u001b[0m\u001b[1;33m\u001b[0m\u001b[1;33m\u001b[0m\u001b[0m\n\u001b[1;32m-> 1285\u001b[1;33m         \u001b[0mself\u001b[0m\u001b[1;33m.\u001b[0m\u001b[0mendheaders\u001b[0m\u001b[1;33m(\u001b[0m\u001b[0mbody\u001b[0m\u001b[1;33m,\u001b[0m \u001b[0mencode_chunked\u001b[0m\u001b[1;33m=\u001b[0m\u001b[0mencode_chunked\u001b[0m\u001b[1;33m)\u001b[0m\u001b[1;33m\u001b[0m\u001b[1;33m\u001b[0m\u001b[0m\n\u001b[0m\u001b[0;32m   1286\u001b[0m \u001b[1;33m\u001b[0m\u001b[0m\n",
      "\u001b[1;32mc:\\users\\user\\appdata\\local\\programs\\python\\python36\\lib\\http\\client.py\u001b[0m in \u001b[0;36mendheaders\u001b[1;34m(self, message_body, encode_chunked)\u001b[0m\n\u001b[0;32m   1233\u001b[0m             \u001b[1;32mraise\u001b[0m \u001b[0mCannotSendHeader\u001b[0m\u001b[1;33m(\u001b[0m\u001b[1;33m)\u001b[0m\u001b[1;33m\u001b[0m\u001b[1;33m\u001b[0m\u001b[0m\n\u001b[1;32m-> 1234\u001b[1;33m         \u001b[0mself\u001b[0m\u001b[1;33m.\u001b[0m\u001b[0m_send_output\u001b[0m\u001b[1;33m(\u001b[0m\u001b[0mmessage_body\u001b[0m\u001b[1;33m,\u001b[0m \u001b[0mencode_chunked\u001b[0m\u001b[1;33m=\u001b[0m\u001b[0mencode_chunked\u001b[0m\u001b[1;33m)\u001b[0m\u001b[1;33m\u001b[0m\u001b[1;33m\u001b[0m\u001b[0m\n\u001b[0m\u001b[0;32m   1235\u001b[0m \u001b[1;33m\u001b[0m\u001b[0m\n",
      "\u001b[1;32mc:\\users\\user\\appdata\\local\\programs\\python\\python36\\lib\\http\\client.py\u001b[0m in \u001b[0;36m_send_output\u001b[1;34m(self, message_body, encode_chunked)\u001b[0m\n\u001b[0;32m   1025\u001b[0m         \u001b[1;32mdel\u001b[0m \u001b[0mself\u001b[0m\u001b[1;33m.\u001b[0m\u001b[0m_buffer\u001b[0m\u001b[1;33m[\u001b[0m\u001b[1;33m:\u001b[0m\u001b[1;33m]\u001b[0m\u001b[1;33m\u001b[0m\u001b[1;33m\u001b[0m\u001b[0m\n\u001b[1;32m-> 1026\u001b[1;33m         \u001b[0mself\u001b[0m\u001b[1;33m.\u001b[0m\u001b[0msend\u001b[0m\u001b[1;33m(\u001b[0m\u001b[0mmsg\u001b[0m\u001b[1;33m)\u001b[0m\u001b[1;33m\u001b[0m\u001b[1;33m\u001b[0m\u001b[0m\n\u001b[0m\u001b[0;32m   1027\u001b[0m \u001b[1;33m\u001b[0m\u001b[0m\n",
      "\u001b[1;32mc:\\users\\user\\appdata\\local\\programs\\python\\python36\\lib\\http\\client.py\u001b[0m in \u001b[0;36msend\u001b[1;34m(self, data)\u001b[0m\n\u001b[0;32m    963\u001b[0m             \u001b[1;32mif\u001b[0m \u001b[0mself\u001b[0m\u001b[1;33m.\u001b[0m\u001b[0mauto_open\u001b[0m\u001b[1;33m:\u001b[0m\u001b[1;33m\u001b[0m\u001b[1;33m\u001b[0m\u001b[0m\n\u001b[1;32m--> 964\u001b[1;33m                 \u001b[0mself\u001b[0m\u001b[1;33m.\u001b[0m\u001b[0mconnect\u001b[0m\u001b[1;33m(\u001b[0m\u001b[1;33m)\u001b[0m\u001b[1;33m\u001b[0m\u001b[1;33m\u001b[0m\u001b[0m\n\u001b[0m\u001b[0;32m    965\u001b[0m             \u001b[1;32melse\u001b[0m\u001b[1;33m:\u001b[0m\u001b[1;33m\u001b[0m\u001b[1;33m\u001b[0m\u001b[0m\n",
      "\u001b[1;32mc:\\users\\user\\appdata\\local\\programs\\python\\python36\\lib\\http\\client.py\u001b[0m in \u001b[0;36mconnect\u001b[1;34m(self)\u001b[0m\n\u001b[0;32m    935\u001b[0m         self.sock = self._create_connection(\n\u001b[1;32m--> 936\u001b[1;33m             (self.host,self.port), self.timeout, self.source_address)\n\u001b[0m\u001b[0;32m    937\u001b[0m         \u001b[0mself\u001b[0m\u001b[1;33m.\u001b[0m\u001b[0msock\u001b[0m\u001b[1;33m.\u001b[0m\u001b[0msetsockopt\u001b[0m\u001b[1;33m(\u001b[0m\u001b[0msocket\u001b[0m\u001b[1;33m.\u001b[0m\u001b[0mIPPROTO_TCP\u001b[0m\u001b[1;33m,\u001b[0m \u001b[0msocket\u001b[0m\u001b[1;33m.\u001b[0m\u001b[0mTCP_NODELAY\u001b[0m\u001b[1;33m,\u001b[0m \u001b[1;36m1\u001b[0m\u001b[1;33m)\u001b[0m\u001b[1;33m\u001b[0m\u001b[1;33m\u001b[0m\u001b[0m\n",
      "\u001b[1;32mc:\\users\\user\\appdata\\local\\programs\\python\\python36\\lib\\socket.py\u001b[0m in \u001b[0;36mcreate_connection\u001b[1;34m(address, timeout, source_address)\u001b[0m\n\u001b[0;32m    723\u001b[0m     \u001b[1;32mif\u001b[0m \u001b[0merr\u001b[0m \u001b[1;32mis\u001b[0m \u001b[1;32mnot\u001b[0m \u001b[1;32mNone\u001b[0m\u001b[1;33m:\u001b[0m\u001b[1;33m\u001b[0m\u001b[1;33m\u001b[0m\u001b[0m\n\u001b[1;32m--> 724\u001b[1;33m         \u001b[1;32mraise\u001b[0m \u001b[0merr\u001b[0m\u001b[1;33m\u001b[0m\u001b[1;33m\u001b[0m\u001b[0m\n\u001b[0m\u001b[0;32m    725\u001b[0m     \u001b[1;32melse\u001b[0m\u001b[1;33m:\u001b[0m\u001b[1;33m\u001b[0m\u001b[1;33m\u001b[0m\u001b[0m\n",
      "\u001b[1;32mc:\\users\\user\\appdata\\local\\programs\\python\\python36\\lib\\socket.py\u001b[0m in \u001b[0;36mcreate_connection\u001b[1;34m(address, timeout, source_address)\u001b[0m\n\u001b[0;32m    712\u001b[0m                 \u001b[0msock\u001b[0m\u001b[1;33m.\u001b[0m\u001b[0mbind\u001b[0m\u001b[1;33m(\u001b[0m\u001b[0msource_address\u001b[0m\u001b[1;33m)\u001b[0m\u001b[1;33m\u001b[0m\u001b[1;33m\u001b[0m\u001b[0m\n\u001b[1;32m--> 713\u001b[1;33m             \u001b[0msock\u001b[0m\u001b[1;33m.\u001b[0m\u001b[0mconnect\u001b[0m\u001b[1;33m(\u001b[0m\u001b[0msa\u001b[0m\u001b[1;33m)\u001b[0m\u001b[1;33m\u001b[0m\u001b[1;33m\u001b[0m\u001b[0m\n\u001b[0m\u001b[0;32m    714\u001b[0m             \u001b[1;31m# Break explicitly a reference cycle\u001b[0m\u001b[1;33m\u001b[0m\u001b[1;33m\u001b[0m\u001b[1;33m\u001b[0m\u001b[0m\n",
      "\u001b[1;31mConnectionRefusedError\u001b[0m: [WinError 10061] No connection could be made because the target machine actively refused it",
      "\nDuring handling of the above exception, another exception occurred:\n",
      "\u001b[1;31mURLError\u001b[0m                                  Traceback (most recent call last)",
      "\u001b[1;32m<ipython-input-1-b64f4cadb086>\u001b[0m in \u001b[0;36m<module>\u001b[1;34m\u001b[0m\n\u001b[0;32m     37\u001b[0m     \u001b[1;31m#image = imutils.resize(image, width=500)\u001b[0m\u001b[1;33m\u001b[0m\u001b[1;33m\u001b[0m\u001b[1;33m\u001b[0m\u001b[0m\n\u001b[0;32m     38\u001b[0m     \u001b[1;31m#print(image.shape)\u001b[0m\u001b[1;33m\u001b[0m\u001b[1;33m\u001b[0m\u001b[1;33m\u001b[0m\u001b[0m\n\u001b[1;32m---> 39\u001b[1;33m     \u001b[0mimg_arr\u001b[0m \u001b[1;33m=\u001b[0m \u001b[0mnp\u001b[0m\u001b[1;33m.\u001b[0m\u001b[0marray\u001b[0m\u001b[1;33m(\u001b[0m\u001b[0mbytearray\u001b[0m\u001b[1;33m(\u001b[0m\u001b[0murllib\u001b[0m\u001b[1;33m.\u001b[0m\u001b[0mrequest\u001b[0m\u001b[1;33m.\u001b[0m\u001b[0murlopen\u001b[0m\u001b[1;33m(\u001b[0m\u001b[0mURL\u001b[0m\u001b[1;33m)\u001b[0m\u001b[1;33m.\u001b[0m\u001b[0mread\u001b[0m\u001b[1;33m(\u001b[0m\u001b[1;33m)\u001b[0m\u001b[1;33m)\u001b[0m\u001b[1;33m,\u001b[0m\u001b[0mdtype\u001b[0m\u001b[1;33m=\u001b[0m\u001b[0mnp\u001b[0m\u001b[1;33m.\u001b[0m\u001b[0muint8\u001b[0m\u001b[1;33m)\u001b[0m\u001b[1;33m\u001b[0m\u001b[1;33m\u001b[0m\u001b[0m\n\u001b[0m\u001b[0;32m     40\u001b[0m     \u001b[1;31m#print(img_arr)\u001b[0m\u001b[1;33m\u001b[0m\u001b[1;33m\u001b[0m\u001b[1;33m\u001b[0m\u001b[0m\n\u001b[0;32m     41\u001b[0m     \u001b[0mimage\u001b[0m \u001b[1;33m=\u001b[0m \u001b[0mcv2\u001b[0m\u001b[1;33m.\u001b[0m\u001b[0mimdecode\u001b[0m\u001b[1;33m(\u001b[0m\u001b[0mimg_arr\u001b[0m\u001b[1;33m,\u001b[0m\u001b[1;33m-\u001b[0m\u001b[1;36m1\u001b[0m\u001b[1;33m)\u001b[0m\u001b[1;33m\u001b[0m\u001b[1;33m\u001b[0m\u001b[0m\n",
      "\u001b[1;32mc:\\users\\user\\appdata\\local\\programs\\python\\python36\\lib\\urllib\\request.py\u001b[0m in \u001b[0;36murlopen\u001b[1;34m(url, data, timeout, cafile, capath, cadefault, context)\u001b[0m\n\u001b[0;32m    221\u001b[0m     \u001b[1;32melse\u001b[0m\u001b[1;33m:\u001b[0m\u001b[1;33m\u001b[0m\u001b[1;33m\u001b[0m\u001b[0m\n\u001b[0;32m    222\u001b[0m         \u001b[0mopener\u001b[0m \u001b[1;33m=\u001b[0m \u001b[0m_opener\u001b[0m\u001b[1;33m\u001b[0m\u001b[1;33m\u001b[0m\u001b[0m\n\u001b[1;32m--> 223\u001b[1;33m     \u001b[1;32mreturn\u001b[0m \u001b[0mopener\u001b[0m\u001b[1;33m.\u001b[0m\u001b[0mopen\u001b[0m\u001b[1;33m(\u001b[0m\u001b[0murl\u001b[0m\u001b[1;33m,\u001b[0m \u001b[0mdata\u001b[0m\u001b[1;33m,\u001b[0m \u001b[0mtimeout\u001b[0m\u001b[1;33m)\u001b[0m\u001b[1;33m\u001b[0m\u001b[1;33m\u001b[0m\u001b[0m\n\u001b[0m\u001b[0;32m    224\u001b[0m \u001b[1;33m\u001b[0m\u001b[0m\n\u001b[0;32m    225\u001b[0m \u001b[1;32mdef\u001b[0m \u001b[0minstall_opener\u001b[0m\u001b[1;33m(\u001b[0m\u001b[0mopener\u001b[0m\u001b[1;33m)\u001b[0m\u001b[1;33m:\u001b[0m\u001b[1;33m\u001b[0m\u001b[1;33m\u001b[0m\u001b[0m\n",
      "\u001b[1;32mc:\\users\\user\\appdata\\local\\programs\\python\\python36\\lib\\urllib\\request.py\u001b[0m in \u001b[0;36mopen\u001b[1;34m(self, fullurl, data, timeout)\u001b[0m\n\u001b[0;32m    524\u001b[0m             \u001b[0mreq\u001b[0m \u001b[1;33m=\u001b[0m \u001b[0mmeth\u001b[0m\u001b[1;33m(\u001b[0m\u001b[0mreq\u001b[0m\u001b[1;33m)\u001b[0m\u001b[1;33m\u001b[0m\u001b[1;33m\u001b[0m\u001b[0m\n\u001b[0;32m    525\u001b[0m \u001b[1;33m\u001b[0m\u001b[0m\n\u001b[1;32m--> 526\u001b[1;33m         \u001b[0mresponse\u001b[0m \u001b[1;33m=\u001b[0m \u001b[0mself\u001b[0m\u001b[1;33m.\u001b[0m\u001b[0m_open\u001b[0m\u001b[1;33m(\u001b[0m\u001b[0mreq\u001b[0m\u001b[1;33m,\u001b[0m \u001b[0mdata\u001b[0m\u001b[1;33m)\u001b[0m\u001b[1;33m\u001b[0m\u001b[1;33m\u001b[0m\u001b[0m\n\u001b[0m\u001b[0;32m    527\u001b[0m \u001b[1;33m\u001b[0m\u001b[0m\n\u001b[0;32m    528\u001b[0m         \u001b[1;31m# post-process response\u001b[0m\u001b[1;33m\u001b[0m\u001b[1;33m\u001b[0m\u001b[1;33m\u001b[0m\u001b[0m\n",
      "\u001b[1;32mc:\\users\\user\\appdata\\local\\programs\\python\\python36\\lib\\urllib\\request.py\u001b[0m in \u001b[0;36m_open\u001b[1;34m(self, req, data)\u001b[0m\n\u001b[0;32m    542\u001b[0m         \u001b[0mprotocol\u001b[0m \u001b[1;33m=\u001b[0m \u001b[0mreq\u001b[0m\u001b[1;33m.\u001b[0m\u001b[0mtype\u001b[0m\u001b[1;33m\u001b[0m\u001b[1;33m\u001b[0m\u001b[0m\n\u001b[0;32m    543\u001b[0m         result = self._call_chain(self.handle_open, protocol, protocol +\n\u001b[1;32m--> 544\u001b[1;33m                                   '_open', req)\n\u001b[0m\u001b[0;32m    545\u001b[0m         \u001b[1;32mif\u001b[0m \u001b[0mresult\u001b[0m\u001b[1;33m:\u001b[0m\u001b[1;33m\u001b[0m\u001b[1;33m\u001b[0m\u001b[0m\n\u001b[0;32m    546\u001b[0m             \u001b[1;32mreturn\u001b[0m \u001b[0mresult\u001b[0m\u001b[1;33m\u001b[0m\u001b[1;33m\u001b[0m\u001b[0m\n",
      "\u001b[1;32mc:\\users\\user\\appdata\\local\\programs\\python\\python36\\lib\\urllib\\request.py\u001b[0m in \u001b[0;36m_call_chain\u001b[1;34m(self, chain, kind, meth_name, *args)\u001b[0m\n\u001b[0;32m    502\u001b[0m         \u001b[1;32mfor\u001b[0m \u001b[0mhandler\u001b[0m \u001b[1;32min\u001b[0m \u001b[0mhandlers\u001b[0m\u001b[1;33m:\u001b[0m\u001b[1;33m\u001b[0m\u001b[1;33m\u001b[0m\u001b[0m\n\u001b[0;32m    503\u001b[0m             \u001b[0mfunc\u001b[0m \u001b[1;33m=\u001b[0m \u001b[0mgetattr\u001b[0m\u001b[1;33m(\u001b[0m\u001b[0mhandler\u001b[0m\u001b[1;33m,\u001b[0m \u001b[0mmeth_name\u001b[0m\u001b[1;33m)\u001b[0m\u001b[1;33m\u001b[0m\u001b[1;33m\u001b[0m\u001b[0m\n\u001b[1;32m--> 504\u001b[1;33m             \u001b[0mresult\u001b[0m \u001b[1;33m=\u001b[0m \u001b[0mfunc\u001b[0m\u001b[1;33m(\u001b[0m\u001b[1;33m*\u001b[0m\u001b[0margs\u001b[0m\u001b[1;33m)\u001b[0m\u001b[1;33m\u001b[0m\u001b[1;33m\u001b[0m\u001b[0m\n\u001b[0m\u001b[0;32m    505\u001b[0m             \u001b[1;32mif\u001b[0m \u001b[0mresult\u001b[0m \u001b[1;32mis\u001b[0m \u001b[1;32mnot\u001b[0m \u001b[1;32mNone\u001b[0m\u001b[1;33m:\u001b[0m\u001b[1;33m\u001b[0m\u001b[1;33m\u001b[0m\u001b[0m\n\u001b[0;32m    506\u001b[0m                 \u001b[1;32mreturn\u001b[0m \u001b[0mresult\u001b[0m\u001b[1;33m\u001b[0m\u001b[1;33m\u001b[0m\u001b[0m\n",
      "\u001b[1;32mc:\\users\\user\\appdata\\local\\programs\\python\\python36\\lib\\urllib\\request.py\u001b[0m in \u001b[0;36mhttp_open\u001b[1;34m(self, req)\u001b[0m\n\u001b[0;32m   1344\u001b[0m \u001b[1;33m\u001b[0m\u001b[0m\n\u001b[0;32m   1345\u001b[0m     \u001b[1;32mdef\u001b[0m \u001b[0mhttp_open\u001b[0m\u001b[1;33m(\u001b[0m\u001b[0mself\u001b[0m\u001b[1;33m,\u001b[0m \u001b[0mreq\u001b[0m\u001b[1;33m)\u001b[0m\u001b[1;33m:\u001b[0m\u001b[1;33m\u001b[0m\u001b[1;33m\u001b[0m\u001b[0m\n\u001b[1;32m-> 1346\u001b[1;33m         \u001b[1;32mreturn\u001b[0m \u001b[0mself\u001b[0m\u001b[1;33m.\u001b[0m\u001b[0mdo_open\u001b[0m\u001b[1;33m(\u001b[0m\u001b[0mhttp\u001b[0m\u001b[1;33m.\u001b[0m\u001b[0mclient\u001b[0m\u001b[1;33m.\u001b[0m\u001b[0mHTTPConnection\u001b[0m\u001b[1;33m,\u001b[0m \u001b[0mreq\u001b[0m\u001b[1;33m)\u001b[0m\u001b[1;33m\u001b[0m\u001b[1;33m\u001b[0m\u001b[0m\n\u001b[0m\u001b[0;32m   1347\u001b[0m \u001b[1;33m\u001b[0m\u001b[0m\n\u001b[0;32m   1348\u001b[0m     \u001b[0mhttp_request\u001b[0m \u001b[1;33m=\u001b[0m \u001b[0mAbstractHTTPHandler\u001b[0m\u001b[1;33m.\u001b[0m\u001b[0mdo_request_\u001b[0m\u001b[1;33m\u001b[0m\u001b[1;33m\u001b[0m\u001b[0m\n",
      "\u001b[1;32mc:\\users\\user\\appdata\\local\\programs\\python\\python36\\lib\\urllib\\request.py\u001b[0m in \u001b[0;36mdo_open\u001b[1;34m(self, http_class, req, **http_conn_args)\u001b[0m\n\u001b[0;32m   1318\u001b[0m                           encode_chunked=req.has_header('Transfer-encoding'))\n\u001b[0;32m   1319\u001b[0m             \u001b[1;32mexcept\u001b[0m \u001b[0mOSError\u001b[0m \u001b[1;32mas\u001b[0m \u001b[0merr\u001b[0m\u001b[1;33m:\u001b[0m \u001b[1;31m# timeout error\u001b[0m\u001b[1;33m\u001b[0m\u001b[1;33m\u001b[0m\u001b[0m\n\u001b[1;32m-> 1320\u001b[1;33m                 \u001b[1;32mraise\u001b[0m \u001b[0mURLError\u001b[0m\u001b[1;33m(\u001b[0m\u001b[0merr\u001b[0m\u001b[1;33m)\u001b[0m\u001b[1;33m\u001b[0m\u001b[1;33m\u001b[0m\u001b[0m\n\u001b[0m\u001b[0;32m   1321\u001b[0m             \u001b[0mr\u001b[0m \u001b[1;33m=\u001b[0m \u001b[0mh\u001b[0m\u001b[1;33m.\u001b[0m\u001b[0mgetresponse\u001b[0m\u001b[1;33m(\u001b[0m\u001b[1;33m)\u001b[0m\u001b[1;33m\u001b[0m\u001b[1;33m\u001b[0m\u001b[0m\n\u001b[0;32m   1322\u001b[0m         \u001b[1;32mexcept\u001b[0m\u001b[1;33m:\u001b[0m\u001b[1;33m\u001b[0m\u001b[1;33m\u001b[0m\u001b[0m\n",
      "\u001b[1;31mURLError\u001b[0m: <urlopen error [WinError 10061] No connection could be made because the target machine actively refused it>"
     ]
    }
   ],
   "source": [
    "# import the necessary packages\n",
    "from imutils import face_utils\n",
    "import numpy as np\n",
    "import argparse\n",
    "import imutils\n",
    "import dlib\n",
    "import cv2\n",
    "import urllib.request\n",
    "def fit_factor(dim,dis):\n",
    "    fac = round(dis/dim,2)\n",
    "    return fac\n",
    "def map_factor(img_dim,s2,tar_dim):\n",
    "    if tar_dim[1]>img_dim[0]-(s2+80):\n",
    "        new_dim = img_dim[0]-(s2+10)\n",
    "    else:\n",
    "        new_dim = tar_dim[1]\n",
    "    return new_dim  \n",
    "# construct the argument parser and parse the arguments\n",
    "#ap = argparse.ArgumentParser()\n",
    "#ap.add_argument(\"-p\", \"--shape-predictor\", required=True,help=\"path to facial landmark predictor\")\n",
    "#ap.add_argument(\"-i\", \"--image\", required=True,help=\"path to input image\")\n",
    "#args = vars(ap.parse_args())\n",
    "cap = cv2.VideoCapture(0)\n",
    "# initialize dlib's face detector (HOG-based) and then create\n",
    "# the facial landmark predictor\n",
    "detector = dlib.get_frontal_face_detector()\n",
    "predictor = dlib.shape_predictor('shape_predictor_68_face_landmarks.dat')\n",
    "#image1 = cv2.imread('neclace4.jpg')\n",
    "oimage = cv2.imread('neclace4.jpg') \n",
    "y,w,x,h = 8,370,54,334\n",
    "URL = \"http://192.168.43.1:8080/shot.jpg\"\n",
    "while True:\n",
    "    #ret, image = cap.read() \n",
    "    # load the input image, resize it, and convert it to grayscale\n",
    "    #image = cv2.imread('gouse1.jpg')\n",
    "    #print(image.shape)\n",
    "    #image = imutils.resize(image, width=500)\n",
    "    #print(image.shape)\n",
    "    img_arr = np.array(bytearray(urllib.request.urlopen(URL).read()),dtype=np.uint8)\n",
    "    #print(img_arr)\n",
    "    image = cv2.imdecode(img_arr,-1)\n",
    "    gray = cv2.cvtColor(image, cv2.COLOR_BGR2GRAY)\n",
    "\n",
    "    # detect faces in the grayscale image\n",
    "    rects = detector(gray, 1)\n",
    "\n",
    "    # loop over the face detections\n",
    "    for (i, rect) in enumerate(rects):\n",
    "        # determine the facial landmarks for the face region, then\n",
    "        # convert the landmark (x, y)-coordinates to a NumPy array\n",
    "        shape = predictor(gray, rect)\n",
    "        shape = face_utils.shape_to_np(shape)\n",
    "\n",
    "        # loop over the face parts individually\n",
    "        #for (name, (i, j)) in face_utils.FACIAL_LANDMARKS_IDXS.items():\n",
    "        name = 'jaw'\n",
    "        (i, j) = face_utils.FACIAL_LANDMARKS_IDXS[name]\n",
    "        (i, j) = (i+3,j-4)\n",
    "        # clone the original image so we can draw on it, then\n",
    "        # display the name of the face part on the image\n",
    "        clone = image.copy()\n",
    "        cv2.putText(clone,'neck', (10, 30), cv2.FONT_HERSHEY_SIMPLEX,0.7, (0, 0, 255), 2)\n",
    "\n",
    "        # loop over the subset of facial landmarks, drawing the\n",
    "        # specific face part\n",
    "        (s1,s2) = shape[i]\n",
    "        (e1,e2) = shape[j]\n",
    "        dis = e1-s1\n",
    "        dim = image1.shape[1]\n",
    "        print((s1,s2), (e1,e2))\n",
    "        print(e1-s1)\n",
    "        print(image1.shape)\n",
    "        m_factor = fit_factor(dim,dis)\n",
    "        p_dim = (int(image1.shape[1]*m_factor),int(image1.shape[0]*m_factor))\n",
    "        print(p_dim)\n",
    "        mf = map_factor(image.shape,s2,p_dim)\n",
    "        if mf ==p_dim[0]:\n",
    "            dim = p_dim\n",
    "        else:\n",
    "            dim = (p_dim[0],mf)\n",
    "        print(dim)\n",
    "        img2gray = cv2.cvtColor(image1, cv2.COLOR_BGR2GRAY)\n",
    "\n",
    "        # add a threshold\n",
    "        ret, mask = cv2.threshold(img2gray, 220, 255, cv2.THRESH_BINARY_INV)\n",
    "        #cv2.imshow('Ear Detector', ear_img) \n",
    "        mask_inv = cv2.bitwise_not(mask)\n",
    "        resized = cv2.resize(image1,dim, interpolation = cv2.INTER_AREA)\n",
    "        #print(resized.shape)\n",
    "        #mask = cv2.resize(mask, (resized.shape[1],resized.shape[0]), interpolation = cv2.INTER_AREA)\n",
    "        #print(mask.shape)\n",
    "        #mask_inv = cv2.resize(mask_inv, (resized.shape[1],resized.shape[0]), interpolation = cv2.INTER_AREA)\n",
    "        #print(mask_inv.shape)\n",
    "        resized1 = cv2.resize(resized, (resized.shape[1]*10,resized.shape[0]*10), interpolation = cv2.INTER_AREA)\n",
    "        #mask = cv2.resize(mask, (resized.shape[1],resized.shape[0]), interpolation = cv2.INTER_AREA)\n",
    "        #mask_inv = cv2.resize(mask_inv, (resized.shape[1],resized.shape[0]), interpolation = cv2.INTER_AREA)\n",
    "        mask = cv2.resize(mask, (resized.shape[1]*10,resized.shape[0]*10), interpolation = cv2.INTER_AREA)\n",
    "        print(mask.shape)\n",
    "        mask_inv = cv2.resize(mask_inv, (resized.shape[1]*10,resized.shape[0]*10), interpolation = cv2.INTER_AREA)\n",
    "        print(mask_inv.shape)\n",
    "        for (x, y) in shape[i:j]:\n",
    "            cv2.circle(clone, (x, y+40), 3, (0, 255, 0), -1)\n",
    "\n",
    "        # extract the ROI of the face region as a separate image\n",
    "        #(x, y, w, h) = cv2.boundingRect(np.array([shape[i:j]]))\n",
    "        #roi = image[y:y + h, x:x + w]\n",
    "        #roi = imutils.resize(roi, width=250, inter=cv2.INTER_CUBIC)\n",
    "        (x, y, w, h) = cv2.boundingRect(np.array([shape[i:j]]))\n",
    "        print(x, y, w, h)\n",
    "        point = s1\n",
    "        point1 = s2+50\n",
    "        roi1 = image[point1:point1+dim[1],point:point+dim[0]]\n",
    "        print(roi1.shape)\n",
    "        print(point1+dim[1],point+dim[0])\n",
    "        roi = cv2.resize(roi1, (roi1.shape[1]*10,roi1.shape[0]*10), interpolation = cv2.INTER_AREA)\n",
    "        print(s1,point,point1,point1+dim[0])\n",
    "        print(roi.shape)\n",
    "        print(point,point1)\n",
    "        roi_bg = cv2.bitwise_and(roi,roi,mask = mask_inv)\n",
    "        print(roi_bg.shape)\n",
    "        # roi_fg contains the orignal location of earring\n",
    "        roi_fg = cv2.bitwise_and(resized1,resized1,mask = mask)\n",
    "        print(roi_bg.shape)\n",
    "        # joining the roi_bg and roi_fg\n",
    "        dst1 = cv2.add(roi_bg,roi_fg)\n",
    "        dst = cv2.resize(dst1, (int(dst1.shape[1]/10),int(dst1.shape[0]/10)), interpolation = cv2.INTER_AREA)\n",
    "        print(dst.shape)\n",
    "        #cv2.imshow('Ear Detector', dst) \n",
    "        #cv2.waitKey(10)\n",
    "        #point = int(s1+dim[0])\n",
    "        #print(point,point+dim[0])\n",
    "        cv2.circle(image, (s1,s2+80), 3, (0, 255, 0), -1)\n",
    "        #cv2.rectangle(image, (s1,s2+80), (s1+dim[0],s2+80+dim[1]), (0,255,0), 3)\n",
    "        image[point1:point1+dim[1],point:point+dim[0]]=dst\n",
    "        # show the particular face part\n",
    "        #cv2.imshow(\"ROI\", roi)\n",
    "        cv2.imshow(\"Image\", image)\n",
    "        #cv2.waitKey(0)\n",
    "        # visualize all facial landmarks with a transparent overlay\n",
    "        #output = face_utils.visualize_facial_landmarks(image, shape)\n",
    "        #cv2.imshow(\"Image\", output)\n",
    "        #cv2.waitKey(0)\n",
    "    k = cv2.waitKey(0) & 0xFF\n",
    "    if k == ord('q'): # wait for ESC key to exit\n",
    "        break\n",
    "    #if cv2.waitKey(0) & 0xFF == ord('s'):\n",
    "        #break\n",
    "\n",
    "cap.release() \n",
    "cv2.destroyAllWindows()"
   ]
  },
  {
   "cell_type": "code",
   "execution_count": 6,
   "metadata": {},
   "outputs": [],
   "source": [
    "def acc_crop(image):\n",
    "    gray = cv2.cvtColor(image, cv2.COLOR_BGR2GRAY)\n",
    "    gray = cv2.GaussianBlur(gray, (5, 5), 0)\n",
    "    ret, mask = cv2.threshold(gray, 220, 255, cv2.THRESH_BINARY_INV)\n",
    "    cnts = cv2.findContours(mask.copy(), cv2.RETR_EXTERNAL,cv2.CHAIN_APPROX_SIMPLE)\n",
    "    cnts = imutils.grab_contours(cnts)\n",
    "    c = max(cnts, key=cv2.contourArea)\n",
    "    ma = cv2.minAreaRect(c);\n",
    "    bp = cv2.boxPoints(ma)\n",
    "    extTop = tuple(c[c[:, :, 1].argmin()][0])\n",
    "    extBot = tuple(c[c[:, :, 1].argmax()][0])\n",
    "    extTop1 = tuple(bp[2])\n",
    "    h = int(bp[2][0]+20)\n",
    "    y = int(extTop[1]-20)\n",
    "    x = int(extTop[0]-20)\n",
    "    w = int(extBot[1]+20)\n",
    "    return x,y,w,h\n"
   ]
  },
  {
   "cell_type": "code",
   "execution_count": 11,
   "metadata": {},
   "outputs": [
    {
     "name": "stdout",
     "output_type": "stream",
     "text": [
      "(700, 700, 3)\n",
      "350 700\n"
     ]
    }
   ],
   "source": [
    "oimage = cv2.imread(\"neclace7.jpg\")\n",
    "print(oimage.shape)\n",
    "#x,y,w,h = acc_crop(oimage)\n",
    "#print(x,y,w,h)\n",
    "first_half = oimage[0:oimage.shape[1],0:int(oimage.shape[0]/2)]\n",
    "second_half = oimage[0:oimage.shape[1],int(oimage.shape[0]/2):oimage.shape[0]]\n",
    "print(int(oimage.shape[0]/2),oimage.shape[0])\n",
    "#cv2.imshow(\"cropped\", first_half)\n",
    "cv2.imshow(\"cropped\", second_half)\n",
    "cv2.waitKey(0)\n",
    "cv2.destroyAllWindows()"
   ]
  },
  {
   "cell_type": "code",
   "execution_count": 14,
   "metadata": {},
   "outputs": [],
   "source": [
    "def acc_crop_side(image):\n",
    "    gray = cv2.cvtColor(image, cv2.COLOR_BGR2GRAY)\n",
    "    gray = cv2.GaussianBlur(gray, (5, 5), 0)\n",
    "    ret, mask = cv2.threshold(gray, 220, 255, cv2.THRESH_BINARY_INV)\n",
    "    cnts = cv2.findContours(mask.copy(), cv2.RETR_EXTERNAL,cv2.CHAIN_APPROX_SIMPLE)\n",
    "    cnts = imutils.grab_contours(cnts)\n",
    "    c = max(cnts, key=cv2.contourArea)\n",
    "    ma = cv2.minAreaRect(c);\n",
    "    bp = cv2.boxPoints(ma)\n",
    "    extTop = tuple(c[c[:, :, 1].argmin()][0])\n",
    "    return extTop\n",
    "    "
   ]
  },
  {
   "cell_type": "code",
   "execution_count": 26,
   "metadata": {},
   "outputs": [],
   "source": [
    "def acc_crop_bottom(image):\n",
    "    gray = cv2.cvtColor(image, cv2.COLOR_BGR2GRAY)\n",
    "    gray = cv2.GaussianBlur(gray, (5, 5), 0)\n",
    "    ret, mask = cv2.threshold(gray, 220, 255, cv2.THRESH_BINARY_INV)\n",
    "    cnts = cv2.findContours(mask.copy(), cv2.RETR_EXTERNAL,cv2.CHAIN_APPROX_SIMPLE)\n",
    "    cnts = imutils.grab_contours(cnts)\n",
    "    c = max(cnts, key=cv2.contourArea)\n",
    "    extBot = tuple(c[c[:, :, 1].argmax()][0])\n",
    "    extRight = tuple(c[c[:, :, 0].argmax()][0])\n",
    "    extLeft = tuple(c[c[:, :, 0].argmin()][0])\n",
    "    return extBot,extRight,extLeft"
   ]
  },
  {
   "cell_type": "code",
   "execution_count": 21,
   "metadata": {},
   "outputs": [
    {
     "data": {
      "text/plain": [
       "((102, 40), (245, 47))"
      ]
     },
     "execution_count": 21,
     "metadata": {},
     "output_type": "execute_result"
    }
   ],
   "source": [
    "topl = acc_crop_side(first_half)\n",
    "topr = acc_crop_side(second_half)\n",
    "topl,topr"
   ]
  },
  {
   "cell_type": "code",
   "execution_count": 38,
   "metadata": {},
   "outputs": [],
   "source": [
    "dis = (int(oimage.shape[0]/2)-lf[0])+rf[0]"
   ]
  },
  {
   "cell_type": "code",
   "execution_count": 27,
   "metadata": {},
   "outputs": [
    {
     "data": {
      "text/plain": [
       "((340, 681), (606, 92), (96, 76))"
      ]
     },
     "execution_count": 27,
     "metadata": {},
     "output_type": "execute_result"
    }
   ],
   "source": [
    "bot,right,left = acc_crop_bottom(oimage)\n",
    "bot,right,left"
   ]
  },
  {
   "cell_type": "code",
   "execution_count": 33,
   "metadata": {},
   "outputs": [
    {
     "data": {
      "text/plain": [
       "[86, 30, 616, 691]"
      ]
     },
     "execution_count": 33,
     "metadata": {},
     "output_type": "execute_result"
    }
   ],
   "source": [
    "dis = (int(oimage.shape[0]/2)+rf[0])\n",
    "if topl[1]>topr[1]:\n",
    "    y = topr[1]\n",
    "else:\n",
    "    y = topl[1]\n",
    "if topl[0]>left[0]:\n",
    "    x = left[0]\n",
    "else:\n",
    "    x = topl[0]\n",
    "if dis>right[0]:\n",
    "    w = dis\n",
    "else:\n",
    "    w = right[0]\n",
    "h = bot[1]\n",
    "cor_points = [x-10,y-10,w+10,h+10]\n",
    "final_cor_points = [x if x>0 else x-20 for x in cor_points]\n",
    "final_cor_points"
   ]
  },
  {
   "cell_type": "code",
   "execution_count": 19,
   "metadata": {},
   "outputs": [
    {
     "ename": "NameError",
     "evalue": "name 'dis' is not defined",
     "output_type": "error",
     "traceback": [
      "\u001b[1;31m---------------------------------------------------------------------------\u001b[0m",
      "\u001b[1;31mNameError\u001b[0m                                 Traceback (most recent call last)",
      "\u001b[1;32m<ipython-input-19-b273d8c8bd23>\u001b[0m in \u001b[0;36m<module>\u001b[1;34m\u001b[0m\n\u001b[1;32m----> 1\u001b[1;33m \u001b[0mh1\u001b[0m \u001b[1;33m=\u001b[0m \u001b[0mdis\u001b[0m\u001b[1;33m+\u001b[0m\u001b[1;36m20\u001b[0m\u001b[1;33m\u001b[0m\u001b[1;33m\u001b[0m\u001b[0m\n\u001b[0m\u001b[0;32m      2\u001b[0m \u001b[0my1\u001b[0m \u001b[1;33m=\u001b[0m \u001b[0mlf\u001b[0m\u001b[1;33m[\u001b[0m\u001b[1;36m1\u001b[0m\u001b[1;33m]\u001b[0m\u001b[1;33m-\u001b[0m\u001b[1;36m20\u001b[0m\u001b[1;33m\u001b[0m\u001b[1;33m\u001b[0m\u001b[0m\n\u001b[0;32m      3\u001b[0m \u001b[0mx1\u001b[0m \u001b[1;33m=\u001b[0m \u001b[0mlf\u001b[0m\u001b[1;33m[\u001b[0m\u001b[1;36m0\u001b[0m\u001b[1;33m]\u001b[0m\u001b[1;33m-\u001b[0m\u001b[1;36m20\u001b[0m\u001b[1;33m\u001b[0m\u001b[1;33m\u001b[0m\u001b[0m\n\u001b[0;32m      4\u001b[0m \u001b[0mw1\u001b[0m \u001b[1;33m=\u001b[0m \u001b[0mbot\u001b[0m\u001b[1;33m[\u001b[0m\u001b[1;36m1\u001b[0m\u001b[1;33m]\u001b[0m\u001b[1;33m+\u001b[0m\u001b[1;36m10\u001b[0m\u001b[1;33m\u001b[0m\u001b[1;33m\u001b[0m\u001b[0m\n\u001b[0;32m      5\u001b[0m \u001b[0mcor_points\u001b[0m \u001b[1;33m=\u001b[0m \u001b[1;33m[\u001b[0m\u001b[0mh1\u001b[0m\u001b[1;33m,\u001b[0m\u001b[0my1\u001b[0m\u001b[1;33m,\u001b[0m\u001b[0mx1\u001b[0m\u001b[1;33m,\u001b[0m\u001b[0mw1\u001b[0m\u001b[1;33m]\u001b[0m\u001b[1;33m\u001b[0m\u001b[1;33m\u001b[0m\u001b[0m\n",
      "\u001b[1;31mNameError\u001b[0m: name 'dis' is not defined"
     ]
    }
   ],
   "source": [
    "h1 = dis+20\n",
    "y1 = lf[1]-20\n",
    "x1 = lf[0]-20\n",
    "w1 = bot[1]+10\n",
    "cor_points = [h1,y1,x1,w1]\n",
    "final_cor_points = [x if x>0 else x-20 for x in cor_points]\n",
    "final_cor_points"
   ]
  },
  {
   "cell_type": "code",
   "execution_count": 42,
   "metadata": {},
   "outputs": [],
   "source": [
    "def acc_cor_points(oimage):\n",
    "    first_half = oimage[0:oimage.shape[1],0:int(oimage.shape[0]/2)]\n",
    "    second_half = oimage[0:oimage.shape[1],int(oimage.shape[0]/2):oimage.shape[0]]\n",
    "    lf = acc_crop_side(first_half)\n",
    "    rf = acc_crop_side(second_half)\n",
    "    dis = (int(oimage.shape[0]/2)-lf[0])+rf[0]\n",
    "    bot,right,left = acc_crop_bottom(oimage)\n",
    "    dis = (int(oimage.shape[0]/2)+rf[0])\n",
    "    if topl[1]>topr[1]:\n",
    "        y = topr[1]\n",
    "    else:\n",
    "        y = topl[1]\n",
    "    if topl[0]>left[0]:\n",
    "        x = left[0]\n",
    "    else:\n",
    "        x = topl[0]\n",
    "    if dis>right[0]:\n",
    "        w = dis\n",
    "    else:\n",
    "        w = right[0]\n",
    "    h = bot[1]\n",
    "    #cor_points = [x-10,y-10,w+10,h+10]\n",
    "    #cor_points = [x,y,w,h]\n",
    "    #final_cor_points = [x if x>0 else x-20 for x in cor_points]\n",
    "    return x,y,w,h"
   ]
  },
  {
   "cell_type": "code",
   "execution_count": 43,
   "metadata": {},
   "outputs": [
    {
     "name": "stdout",
     "output_type": "stream",
     "text": [
      "(96, 40, 606, 681)\n"
     ]
    }
   ],
   "source": [
    "print(acc_cor_points(oimage))"
   ]
  },
  {
   "cell_type": "code",
   "execution_count": 11,
   "metadata": {},
   "outputs": [
    {
     "ename": "NameError",
     "evalue": "name 'acc_cor_points' is not defined",
     "output_type": "error",
     "traceback": [
      "\u001b[1;31m---------------------------------------------------------------------------\u001b[0m",
      "\u001b[1;31mNameError\u001b[0m                                 Traceback (most recent call last)",
      "\u001b[1;32m<ipython-input-11-2c74b8c60a6b>\u001b[0m in \u001b[0;36m<module>\u001b[1;34m\u001b[0m\n\u001b[0;32m      1\u001b[0m \u001b[0moimage\u001b[0m \u001b[1;33m=\u001b[0m \u001b[0mcv2\u001b[0m\u001b[1;33m.\u001b[0m\u001b[0mimread\u001b[0m\u001b[1;33m(\u001b[0m\u001b[1;34m'neclace1.jpg'\u001b[0m\u001b[1;33m)\u001b[0m\u001b[1;33m\u001b[0m\u001b[1;33m\u001b[0m\u001b[0m\n\u001b[1;32m----> 2\u001b[1;33m \u001b[0mh\u001b[0m\u001b[1;33m,\u001b[0m\u001b[0my\u001b[0m\u001b[1;33m,\u001b[0m\u001b[0mx\u001b[0m\u001b[1;33m,\u001b[0m\u001b[0mw\u001b[0m \u001b[1;33m=\u001b[0m \u001b[0macc_cor_points\u001b[0m\u001b[1;33m(\u001b[0m\u001b[0moimage\u001b[0m\u001b[1;33m)\u001b[0m\u001b[1;33m\u001b[0m\u001b[1;33m\u001b[0m\u001b[0m\n\u001b[0m\u001b[0;32m      3\u001b[0m \u001b[0mprint\u001b[0m\u001b[1;33m(\u001b[0m\u001b[0mh\u001b[0m\u001b[1;33m,\u001b[0m\u001b[0my\u001b[0m\u001b[1;33m,\u001b[0m\u001b[0mx\u001b[0m\u001b[1;33m,\u001b[0m\u001b[0mw\u001b[0m\u001b[1;33m)\u001b[0m\u001b[1;33m\u001b[0m\u001b[1;33m\u001b[0m\u001b[0m\n\u001b[0;32m      4\u001b[0m \u001b[0mimage1\u001b[0m \u001b[1;33m=\u001b[0m \u001b[0moimage\u001b[0m\u001b[1;33m[\u001b[0m\u001b[0my\u001b[0m\u001b[1;33m:\u001b[0m\u001b[0mw\u001b[0m\u001b[1;33m,\u001b[0m\u001b[0mint\u001b[0m\u001b[1;33m(\u001b[0m\u001b[0mx\u001b[0m\u001b[1;33m/\u001b[0m\u001b[1;36m2\u001b[0m\u001b[1;33m)\u001b[0m\u001b[1;33m:\u001b[0m\u001b[0mint\u001b[0m\u001b[1;33m(\u001b[0m\u001b[0mx\u001b[0m\u001b[1;33m*\u001b[0m\u001b[1;36m1.5\u001b[0m\u001b[1;33m)\u001b[0m\u001b[1;33m+\u001b[0m\u001b[0mh\u001b[0m\u001b[1;33m]\u001b[0m\u001b[1;33m\u001b[0m\u001b[1;33m\u001b[0m\u001b[0m\n\u001b[0;32m      5\u001b[0m \u001b[0mcv2\u001b[0m\u001b[1;33m.\u001b[0m\u001b[0mimshow\u001b[0m\u001b[1;33m(\u001b[0m\u001b[1;34m\"cropped\"\u001b[0m\u001b[1;33m,\u001b[0m \u001b[0mimage1\u001b[0m\u001b[1;33m)\u001b[0m\u001b[1;33m\u001b[0m\u001b[1;33m\u001b[0m\u001b[0m\n",
      "\u001b[1;31mNameError\u001b[0m: name 'acc_cor_points' is not defined"
     ]
    }
   ],
   "source": [
    "oimage = cv2.imread('neclace1.jpg') \n",
    "h,y,x,w = acc_cor_points(oimage)\n",
    "print(h,y,x,w)\n",
    "image1 = oimage[y:w,int(x/2):int(x*1.5)+h]\n",
    "cv2.imshow(\"cropped\", image1)\n",
    "cv2.waitKey(0)\n",
    "cv2.destroyAllWindows()"
   ]
  },
  {
   "cell_type": "code",
   "execution_count": null,
   "metadata": {},
   "outputs": [],
   "source": [
    "extRight = tuple(c[c[:, :, 0].argmin()][0])\n",
    "extLeft = tuple(c[c[:, :, 0].argmax()][0])\n",
    "extTop = tuple(c[c[:, :, 1].argmin()][0])\n",
    "extBot = tuple(c[c[:, :, 1].argmax()][0])\n",
    "extTop1 = tuple(bp[2])"
   ]
  },
  {
   "cell_type": "code",
   "execution_count": 9,
   "metadata": {},
   "outputs": [
    {
     "data": {
      "text/plain": [
       "((50, 0), (385, 60), (28, 69), (215, 337))"
      ]
     },
     "execution_count": 9,
     "metadata": {},
     "output_type": "execute_result"
    }
   ],
   "source": [
    "extTop,extLeft,extRight,extBot"
   ]
  },
  {
   "cell_type": "code",
   "execution_count": null,
   "metadata": {},
   "outputs": [],
   "source": []
  }
 ],
 "metadata": {
  "kernelspec": {
   "display_name": "Python 3",
   "language": "python",
   "name": "python3"
  },
  "language_info": {
   "codemirror_mode": {
    "name": "ipython",
    "version": 3
   },
   "file_extension": ".py",
   "mimetype": "text/x-python",
   "name": "python",
   "nbconvert_exporter": "python",
   "pygments_lexer": "ipython3",
   "version": "3.6.8"
  }
 },
 "nbformat": 4,
 "nbformat_minor": 4
}
